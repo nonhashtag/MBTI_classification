{
 "cells": [
  {
   "cell_type": "code",
   "execution_count": 1,
   "id": "c4ea587c",
   "metadata": {},
   "outputs": [],
   "source": [
    "import numpy as np\n",
    "import pandas as pd\n",
    "import seaborn as sns\n",
    "import matplotlib.pyplot as plt\n",
    "from collections import Counter"
   ]
  },
  {
   "cell_type": "code",
   "execution_count": 3,
   "id": "82ad45fa",
   "metadata": {},
   "outputs": [],
   "source": [
    "data = pd.read_csv('MBTI_500.csv')"
   ]
  },
  {
   "cell_type": "code",
   "execution_count": 5,
   "id": "d3cd0a78",
   "metadata": {},
   "outputs": [],
   "source": [
    "posts = data['posts']\n",
    "raw_posts = ''"
   ]
  },
  {
   "cell_type": "code",
   "execution_count": 7,
   "id": "0fa86b34",
   "metadata": {},
   "outputs": [],
   "source": [
    "raw_posts = ' '.join(posts)"
   ]
  },
  {
   "cell_type": "code",
   "execution_count": 22,
   "id": "78ac37dd",
   "metadata": {},
   "outputs": [
    {
     "data": {
      "text/plain": [
       "345365644"
      ]
     },
     "execution_count": 22,
     "metadata": {},
     "output_type": "execute_result"
    }
   ],
   "source": [
    "len(raw_posts)"
   ]
  },
  {
   "cell_type": "code",
   "execution_count": 31,
   "id": "73686ea3",
   "metadata": {},
   "outputs": [
    {
     "data": {
      "text/plain": [
       "'me pokémon'"
      ]
     },
     "execution_count": 31,
     "metadata": {},
     "output_type": "execute_result"
    }
   ],
   "source": [
    "# cp949로는 인코딩이 안될 듯한 문자가 존재함\n",
    "raw_posts[18980:18990]"
   ]
  },
  {
   "cell_type": "code",
   "execution_count": 32,
   "id": "4540b8db",
   "metadata": {},
   "outputs": [],
   "source": [
    "# UTF-8 인코더 이용\n",
    "with open('raw_posts.txt', 'a', encoding='UTF-8') as f:\n",
    "    f.write(raw_posts)"
   ]
  },
  {
   "cell_type": "markdown",
   "id": "531e0d0d",
   "metadata": {},
   "source": [
    "## 파일 불러서 사용"
   ]
  },
  {
   "cell_type": "code",
   "execution_count": 4,
   "id": "3d372308",
   "metadata": {},
   "outputs": [],
   "source": [
    "with open('raw_posts.txt', 'r', encoding='UTF-8') as f:\n",
    "    raw_posts = f.read()"
   ]
  },
  {
   "cell_type": "code",
   "execution_count": 5,
   "id": "1f70314e",
   "metadata": {},
   "outputs": [],
   "source": [
    "list_raw = raw_posts.split()"
   ]
  },
  {
   "cell_type": "code",
   "execution_count": 6,
   "id": "38967b42",
   "metadata": {},
   "outputs": [],
   "source": [
    "count = Counter(list_raw)"
   ]
  },
  {
   "cell_type": "code",
   "execution_count": 10,
   "id": "587270e1",
   "metadata": {},
   "outputs": [],
   "source": [
    "word_to_index = dict()\n",
    "i=0\n",
    "for (word, frequency) in count:\n",
    "    i+=1\n",
    "    word_to_index[word] = i"
   ]
  },
  {
   "cell_type": "markdown",
   "id": "8b547611",
   "metadata": {},
   "source": [
    "## 정수 토큰화 시키기"
   ]
  },
  {
   "cell_type": "code",
   "execution_count": 12,
   "id": "eb9e5fc5",
   "metadata": {},
   "outputs": [],
   "source": [
    "from tensorflow.keras.preprocessing.text import Tokenizer"
   ]
  },
  {
   "cell_type": "code",
   "execution_count": 13,
   "id": "1425a617",
   "metadata": {},
   "outputs": [],
   "source": [
    "tokenizer = Tokenizer()"
   ]
  },
  {
   "cell_type": "code",
   "execution_count": null,
   "id": "a659acdf",
   "metadata": {},
   "outputs": [],
   "source": [
    "#오래걸림\n",
    "sequence = tokenizer.texts_to_sequences(raw_posts)"
   ]
  },
  {
   "cell_type": "code",
   "execution_count": null,
   "id": "05383b64",
   "metadata": {},
   "outputs": [],
   "source": [
    "# 오래걸림\n",
    "for i in list_raw:\n",
    "    print(word_to_index[i], end=\" \")"
   ]
  },
  {
   "cell_type": "markdown",
   "id": "69976537",
   "metadata": {},
   "source": [
    "### 위의 방식들은 오래걸린다 따라서..."
   ]
  },
  {
   "cell_type": "markdown",
   "id": "f4c27f0b",
   "metadata": {},
   "source": [
    "## json 형식으로 파일저장"
   ]
  },
  {
   "cell_type": "code",
   "execution_count": 19,
   "id": "edba18f3",
   "metadata": {},
   "outputs": [],
   "source": [
    "import json"
   ]
  },
  {
   "cell_type": "code",
   "execution_count": 21,
   "id": "a7f5d306",
   "metadata": {},
   "outputs": [],
   "source": [
    "with open('indexed.json', 'w', encoding='UTF-8') as f:\n",
    "    json.dump(word_to_index, f)"
   ]
  },
  {
   "cell_type": "code",
   "execution_count": null,
   "id": "bf994cbd",
   "metadata": {},
   "outputs": [],
   "source": []
  }
 ],
 "metadata": {
  "kernelspec": {
   "display_name": "ai_port",
   "language": "python",
   "name": "ai_port"
  },
  "language_info": {
   "codemirror_mode": {
    "name": "ipython",
    "version": 3
   },
   "file_extension": ".py",
   "mimetype": "text/x-python",
   "name": "python",
   "nbconvert_exporter": "python",
   "pygments_lexer": "ipython3",
   "version": "3.8.11"
  }
 },
 "nbformat": 4,
 "nbformat_minor": 5
}
